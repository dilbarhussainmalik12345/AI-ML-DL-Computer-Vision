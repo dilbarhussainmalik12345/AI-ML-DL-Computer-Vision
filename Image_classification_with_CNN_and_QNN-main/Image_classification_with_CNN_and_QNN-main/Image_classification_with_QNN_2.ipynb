{
 "cells": [
  {
   "cell_type": "markdown",
   "id": "89319537",
   "metadata": {},
   "source": [
    "# Image classification \n",
    "\n",
    "Image classification is a computer vision task that involves categorizing images into predefined classes or categories. The goal is to develop algorithms or models that can accurately identify and assign labels to images based on their visual features and content. This task is commonly used in various applications, such as object recognition, facial recognition, medical imaging, and autonomous driving, to enable machines to understand and interpret visual information in a similar way to humans. The output of an image classification task is a prediction or probability distribution indicating the likelihood of each class for a given image."
   ]
  },
  {
   "cell_type": "code",
   "execution_count": 1,
   "id": "349fb80c",
   "metadata": {},
   "outputs": [],
   "source": [
    "import numpy as np\n",
    "import matplotlib.pyplot as plt\n",
    "\n",
    "import time, copy\n",
    "\n",
    "import torch\n",
    "from torch import nn\n",
    "import torch.nn.functional as F\n",
    "from torch.utils.data import DataLoader\n",
    "from torchvision import datasets, transforms\n",
    "from torch.utils.data.dataset import random_split\n",
    "\n",
    "\n",
    "from quantum_circuit_simulator import quantum_circuit\n"
   ]
  },
  {
   "cell_type": "markdown",
   "id": "dcbdabb7",
   "metadata": {},
   "source": [
    "## Load dataset and transform\n",
    "\n",
    "The \"Modified National Institute of Standards and Technology\" (__MNIST__) dataset consists of a large collection of 60,000 handwritten digits for training and an additional 10,000 handwritten digits for testing.\n",
    "It dataset has served as a benchmark for evaluating and comparing the performance of various machine learning algorithms, particularly in the field of image classification. It has played a crucial role in the development and advancement of deep learning models, especially convolutional neural networks (CNNs), and has been used extensively for educational purposes and as a baseline for assessing new algorithms and techniques in the field.\n",
    "\n",
    "\n",
    "_Image Format_: Each image in the MNIST dataset is a grayscale image with a resolution of 28x28 pixels. This results in a total of 784 pixels per image.\n",
    "\n",
    "_Digit Classes_: The dataset covers ten classes representing the digits from 0 to 9. Each image is labeled with the corresponding digit class, providing the ground truth for training and evaluation.\n",
    "\n",
    "_Data Distribution_: The dataset is balanced, meaning that it contains an equal number of samples for each digit class. This balance ensures that the model is exposed to an equal representation of each digit during training.\n",
    "\n",
    "\n",
    "-------------------\n",
    "\n",
    "__FashionMNIST__ is intended to be a more challenging dataset compared to MNIST, as it requires models to recognize and classify images of various clothing items accurately. FashionMNIST has the same Image Format, Data Distribution, and size of train- and test-set as of MNIST.\n",
    "\n",
    "_Clothing Categories_: The dataset covers ten different clothing categories, including T-shirts/tops, trousers, pullovers, dresses, coats, sandals, shirts, sneakers, bags, and ankle boots. Each image is labeled with the corresponding clothing category, providing the ground truth for training and evaluation."
   ]
  },
  {
   "cell_type": "code",
   "execution_count": 2,
   "id": "0b35907a",
   "metadata": {},
   "outputs": [
    {
     "name": "stdout",
     "output_type": "stream",
     "text": [
      "MNIST \n",
      "\n",
      "number of (train, test) examples = (60000, 10000)\n"
     ]
    }
   ],
   "source": [
    "# Load the dataset and transform it into tensors and normalized between -1 and 1.\n",
    "\n",
    "size = 16\n",
    "\n",
    "transform = transforms.Compose([\n",
    "    transforms.Resize((size, size)),\n",
    "    transforms.ToTensor(),\n",
    "    transforms.Normalize(mean=(0.5,), std=(0.5,)) \n",
    "])\n",
    "\n",
    "\n",
    "def load_dataset(name):\n",
    "    print(name,'\\n')\n",
    "    if name == \"FashionMNIST\":\n",
    "        train_dataset = datasets.FashionMNIST(root=\"FashionMNIST\", train=True, download=True, transform=transform)\n",
    "        test_dataset = datasets.FashionMNIST(root=\"FashionMNIST\", train=False, download=True, transform=transform)\n",
    "    elif name == \"MNIST\":\n",
    "        train_dataset = datasets.MNIST(root=\"MNIST\", train=True, download=True, transform=transform)\n",
    "        test_dataset = datasets.MNIST(root=\"MNIST\", train=False, download=True, transform=transform)\n",
    "    return train_dataset, test_dataset \n",
    "\n",
    "\n",
    "# Choose either \"MNIST\" or \"FashionMNIST\" \n",
    "train_dataset, test_dataset = load_dataset(\"MNIST\")\n",
    "\n",
    "\n",
    "\n",
    "print(f'number of (train, test) examples = {len(train_dataset), len(test_dataset)}')\n"
   ]
  },
  {
   "cell_type": "markdown",
   "id": "97f5b368",
   "metadata": {},
   "source": [
    "## Let us consider only two classes 0 and 1 for training and test"
   ]
  },
  {
   "cell_type": "code",
   "execution_count": 3,
   "id": "8cc59968",
   "metadata": {},
   "outputs": [
    {
     "name": "stdout",
     "output_type": "stream",
     "text": [
      "number of (train, test) examples = (12665, 2115)\n"
     ]
    }
   ],
   "source": [
    "def generate_subset(dataset):\n",
    "    subset = []\n",
    "    for i in range(len(dataset)):\n",
    "        x, y = dataset[i]\n",
    "        if y in [0, 1]:\n",
    "            subset.append((x, torch.tensor(y, dtype=torch.float32)))\n",
    "    return subset\n",
    "\n",
    "train_dataset = generate_subset(train_dataset)\n",
    "test_dataset = generate_subset(test_dataset)\n",
    "\n",
    "print(f'number of (train, test) examples = {len(train_dataset), len(test_dataset)}')"
   ]
  },
  {
   "cell_type": "markdown",
   "id": "09367beb",
   "metadata": {},
   "source": [
    "### view a training example:"
   ]
  },
  {
   "cell_type": "code",
   "execution_count": 4,
   "id": "0eaa7b82",
   "metadata": {
    "scrolled": true
   },
   "outputs": [
    {
     "name": "stdout",
     "output_type": "stream",
     "text": [
      "x of torch.Size([1, 16, 16]) :\n"
     ]
    },
    {
     "data": {
      "image/png": "[encoded data removed]",
      "text/plain": [
       "<Figure size 432x288 with 1 Axes>"
      ]
     },
     "metadata": {
      "needs_background": "light"
     },
     "output_type": "display_data"
    },
    {
     "name": "stdout",
     "output_type": "stream",
     "text": [
      "true label = y = 1.0\n",
      "\n",
      "(x_min, x_max) = (-1.0, 0.961)\n"
     ]
    }
   ],
   "source": [
    "idx = np.random.choice(len(train_dataset))\n",
    "\n",
    "x = train_dataset[idx][0]\n",
    "print(f'x of {x.shape} :')\n",
    "plt.imshow(x[0], cmap='gray')\n",
    "plt.show()\n",
    "\n",
    "print(f'true label = y = {train_dataset[idx][1]}\\n')\n",
    "\n",
    "print(f'(x_min, x_max) = {x.min().item(), round(x.max().item(),3)}')"
   ]
  },
  {
   "attachments": {
    "QNN2.png": {
     "image/png": "[encoded data removed]"
    }
   },
   "cell_type": "markdown",
   "id": "519ac1b9",
   "metadata": {},
   "source": [
    "# Define model (QNN), training and test loops\n",
    "\n",
    "![QNN2.png](attachment:QNN2.png)\n",
    "\n",
    "### QNN = parameterized quantum circuit (PQC)\n",
    "\n",
    "\n",
    "\n",
    "A PQC is made of $L$ quantum layers. \n",
    "Here, each quantum layer $l$ has two parts: rotation $\\text{R}_y(\\theta^{[l]})$ in green and entangling $\\text{CXs}$ in blue color.\n",
    "\n",
    "-----------\n",
    "\n",
    "__The rotation part__ is made of the tensor-product \n",
    "$\\ \\text{R}_y(\\theta^{[l]}) = \\displaystyle\\bigotimes_{i} \\text{R}_y(\\theta^{[l]}_i)\\ $\n",
    "of single-qubit rotations (unitary gates) \n",
    "$\\ \\text{R}(\\theta) = \\cos(\\theta) I + \\texttt{i}\\sin(\\theta)\\,Y$ around $y$-axis.\n",
    "where $i\\in\\{1,\\cdots,n\\}$ is the qubit-index, the angles $\\theta^{[l]}=(\\theta^{[l]}_1,\\cdots,\\theta^{[l]}_n)$ of rotations are learnable parameters, and $n$ is the number of qubits.\n",
    "$I$ is the Identity and $X, Y$ are the Pauli operators.\n",
    "<br>\n",
    "\n",
    "\n",
    "__The entangling part__ is made of the tensor-product \n",
    "$\\text{CXs} = \\displaystyle\\bigotimes_{(i,j)} \\text{CX}_{(i,j)}$\n",
    "of two-qubit\n",
    "$\\text{CX}_{(i,j)} = |0\\rangle_i\\langle 0|\\otimes I_j +|1\\rangle_i\\langle 1|\\otimes X_j$ gates,\n",
    "where $(i,j)$ represents the pair of control and target qubits $i$ and $j$, respectively.\n",
    "This part will create entanglement between qubits and facilitate quantum information transfer between qubits. \n",
    "However, this part carries no learnable parameters.\n",
    "\n",
    "-------------\n",
    "\n",
    "__Input to the PQC__ is a $l_2$-normalized (quantum state) vector $|x\\rangle$ of $2^n$ components. The ket $|x\\rangle$ comes from the input vector $x$ after flattening a $\\text{size}\\times\\text{size}$ image from the data.\n",
    "Since $\\text{size}\\times\\text{size}=:2^n=\\text{dim}$ by definition and $\\text{size}=16$, $n=8$.\n",
    "\n",
    "\n",
    "\n",
    "__After the PQC__, we perform measurement on $|x,\\Theta\\rangle$ in the $z$-basis (computational-basis) and get a probability-vector $\\textbf{p}(x,\\Theta)=(p_0,\\cdots,p_{\\text{dim}})$. Then we get the marginal probability\n",
    "$\\sum_{i \\text{ is even}} p_i$. This whole procedure is equivalent to performing a $z$-measurement on the last qubit shown in red color and calculating the probability for the 0 outcome. With the marginal probability, we compute $loss(\\Theta|x)$. All the learnable parameters are made of $\\Theta=\\{\\theta^{[1]}, \\cdots, \\theta^{[L]}\\}$ associated with the quantum layer.\n",
    "\n",
    "\n",
    "\n",
    "For details on the parameterized quantum circuit, see https://iopscience.iop.org/article/10.1088/2058-9565/ab4eb5\n",
    " \n"
   ]
  },
  {
   "cell_type": "code",
   "execution_count": 5,
   "id": "077f1b6b",
   "metadata": {
    "scrolled": true
   },
   "outputs": [
    {
     "data": {
      "text/plain": [
       "tensor([1., 0., 1., 0., 1., 0., 1., 0., 1., 0., 1., 0., 1., 0., 1., 0., 1., 0.,\n",
       "        1., 0., 1., 0., 1., 0., 1., 0., 1., 0., 1., 0., 1., 0., 1., 0., 1., 0.,\n",
       "        1., 0., 1., 0., 1., 0., 1., 0., 1., 0., 1., 0., 1., 0., 1., 0., 1., 0.,\n",
       "        1., 0., 1., 0., 1., 0., 1., 0., 1., 0., 1., 0., 1., 0., 1., 0., 1., 0.,\n",
       "        1., 0., 1., 0., 1., 0., 1., 0., 1., 0., 1., 0., 1., 0., 1., 0., 1., 0.,\n",
       "        1., 0., 1., 0., 1., 0., 1., 0., 1., 0., 1., 0., 1., 0., 1., 0., 1., 0.,\n",
       "        1., 0., 1., 0., 1., 0., 1., 0., 1., 0., 1., 0., 1., 0., 1., 0., 1., 0.,\n",
       "        1., 0., 1., 0., 1., 0., 1., 0., 1., 0., 1., 0., 1., 0., 1., 0., 1., 0.,\n",
       "        1., 0., 1., 0., 1., 0., 1., 0., 1., 0., 1., 0., 1., 0., 1., 0., 1., 0.,\n",
       "        1., 0., 1., 0., 1., 0., 1., 0., 1., 0., 1., 0., 1., 0., 1., 0., 1., 0.,\n",
       "        1., 0., 1., 0., 1., 0., 1., 0., 1., 0., 1., 0., 1., 0., 1., 0., 1., 0.,\n",
       "        1., 0., 1., 0., 1., 0., 1., 0., 1., 0., 1., 0., 1., 0., 1., 0., 1., 0.,\n",
       "        1., 0., 1., 0., 1., 0., 1., 0., 1., 0., 1., 0., 1., 0., 1., 0., 1., 0.,\n",
       "        1., 0., 1., 0., 1., 0., 1., 0., 1., 0., 1., 0., 1., 0., 1., 0., 1., 0.,\n",
       "        1., 0., 1., 0.])"
      ]
     },
     "execution_count": 5,
     "metadata": {},
     "output_type": "execute_result"
    }
   ],
   "source": [
    "\n",
    "n = int(2*np.log2(size))\n",
    "dim = 2**n              # dimension of the n-qubit Hilbert space\n",
    "\n",
    "\n",
    "#--------------------------------------------------------------------------------------\n",
    "\n",
    "'''0 outcome projector on the last qubit'''\n",
    "\n",
    "last_qubit_proj = torch.tensor([(1 + (-1)**i)/2 for i in range(dim)], dtype=torch.float32)\n",
    "last_qubit_proj\n"
   ]
  },
  {
   "cell_type": "code",
   "execution_count": 6,
   "id": "2905df86",
   "metadata": {},
   "outputs": [
    {
     "name": "stdout",
     "output_type": "stream",
     "text": [
      "Using cpu device\n",
      "\n"
     ]
    }
   ],
   "source": [
    "device = \"cuda\" if torch.cuda.is_available() else \"cpu\"    # Get gpu or cpu device for training\n",
    "print(f\"Using {device} device\\n\")\n",
    "\n",
    "#=====================================================================================\n",
    "\n",
    "\n",
    "class QNN(torch.nn.Module):                              # Define model\n",
    "    def __init__(self, n, L):                            # number of qubits = n, number of quantum layers = L\n",
    "        super().__init__()\n",
    "        \n",
    "        self.flatten = nn.Flatten()\n",
    "        \n",
    "        angles = torch.empty((L, n), dtype=torch.float64)\n",
    "        torch.nn.init.uniform_(angles, -0.01, 0.01)\n",
    "        self.angles = torch.nn.Parameter(angles)                   # it makes angles learnable parameters\n",
    "       \n",
    "\n",
    "    def forward(self, x):\n",
    "        x = self.flatten(x)\n",
    "        x /= torch.linalg.norm(x.clone(), ord=2, dim=1, keepdim=True)       # L2 normalization to change x --> |x⟩\n",
    "        \n",
    "        '''initializing parameterized quantum circuits (PQC)'''\n",
    "        qc = quantum_circuit(num_qubits = n, state_vector = x.T)   # each column is a feature-vector of an example\n",
    "        for l in range(L):\n",
    "            qc.Ry_layer(self.angles[l].to(torch.cfloat))           # rotation part of lth quantum layer\n",
    "            qc.cx_linear_layer()                                   # entangling part of lth quantum layer\n",
    "\n",
    "        'after passing through the PQC, measurement on the output-ket in the computational basis'\n",
    "        x = torch.real(qc.probabilities())               # each column is a probabilities-vector for an example \n",
    "                                                         # x.shape = (dim, batch size)\n",
    "        \n",
    "        #print(torch.sum(x, dim=0))                      # to see whether probabilities add up to 1 or not\n",
    "\n",
    "        x = torch.matmul(x.T, last_qubit_proj)           # probability of getting 0 outcome on the last qubit\n",
    "        return x  \n",
    "\n"
   ]
  },
  {
   "cell_type": "code",
   "execution_count": 7,
   "id": "eec9caac",
   "metadata": {},
   "outputs": [],
   "source": [
    "\n",
    "def performance_estimate(dataset, model, loss_fn, train_or_test):\n",
    "    '''this function computes accuracy and loss of a model on the training or test set'''\n",
    "    data_size = len(dataset)\n",
    "    \n",
    "    dataloader = DataLoader(dataset=dataset, batch_size=batch_size, shuffle=True)\n",
    "    num_batches = len(dataloader)\n",
    "    \n",
    "    model.eval()\n",
    "    loss, accuracy = 0, 0\n",
    "    with torch.no_grad():\n",
    "        for X, y in dataloader:\n",
    "            X, y = X.to(device), y.to(device)\n",
    "            pred = model(X)\n",
    "            loss += loss_fn(pred, y).item()\n",
    "            \n",
    "            pred = torch.stack([1-pred, pred]).T\n",
    "            accuracy += (pred.argmax(1) == y).sum().item()         \n",
    "    accuracy /= data_size                                            # accuracy lies in the interval [0, 1]  \n",
    "    loss /= num_batches\n",
    "    print(f\"{train_or_test} accuracy: {round(accuracy, 3)},  {train_or_test} loss: {round(loss,3)}\")\n",
    "    return accuracy, loss\n",
    "\n",
    "\n",
    "\n",
    "\n",
    "def one_epoch(model, loss_fn, optimizer, dataset, batch_size):\n",
    "    \n",
    "    A_train, L_train, A_test, L_test = [], [], [], []\n",
    "\n",
    "    dataloader = DataLoader(dataset=dataset, batch_size=batch_size, shuffle=True)\n",
    "    \n",
    "    model.train()\n",
    "    for batch, (X, y) in enumerate(dataloader):\n",
    "        X, y = X.to(device), y.to(device)\n",
    "\n",
    "        out = model(X)                             # Perform a single forward pass \n",
    "        loss = loss_fn(out, y)          \n",
    "    \n",
    "        optimizer.zero_grad()                      # Clear gradients\n",
    "        loss.backward()                            # Derive gradients, backpropagation\n",
    "        optimizer.step()                           # Update parameters based on gradients\n",
    "        \n",
    "    \n",
    "        if batch % batch_size == 0: \n",
    "            #As training progress, computing and appending loss and accuracy of the model on train and test set\n",
    "            accuracy_train, loss_train = performance_estimate(train_dataset, model, loss_fn, 'train')\n",
    "            accuracy_test, loss_test = performance_estimate(test_dataset, model, loss_fn, 'test ')\n",
    "            print()\n",
    "            \n",
    "            A_train.append(accuracy_train)        \n",
    "            L_train.append(loss_train)\n",
    "            A_test.append(accuracy_test)\n",
    "            L_test.append(loss_test)\n",
    "            \n",
    "            #print(f\"train loss: {round(loss,3)}\")\n",
    "    \n",
    "    return A_train, L_train, A_test, L_test \n",
    "\n",
    "\n",
    "\n",
    "\n",
    "'''Binary Cross Entropy Loss'''    \n",
    "\n",
    "def training(dataset, batch_size, n, L, lr_, weight_decay_, epochs):\n",
    "    \n",
    "    model = QNN(n=n, L=L).to(device)\n",
    "    loss_fn = nn.BCELoss()\n",
    "    optimizer = torch.optim.Adam(model.parameters(), lr=lr_, weight_decay=weight_decay_)\n",
    "    \n",
    "    A_Train, L_Train, A_Test, L_Test = [], [], [], []\n",
    "    for t in range(epochs): \n",
    "        print(f\"Epoch {t+1} ---------------------------------- \\n\")\n",
    "        #As training progress, computing and appending loss and accuracy of the model on train and test set\n",
    "        A_train, L_train, A_test, L_test = one_epoch(model, loss_fn, optimizer, dataset, batch_size)\n",
    "        A_Train += A_train\n",
    "        L_Train += L_train \n",
    "        A_Test += A_test\n",
    "        L_Test += L_test\n",
    "        \n",
    "        #accuracy, loss = performance_estimate(test_dataset, model, loss_fn, 'test ')\n",
    "    \n",
    "    model_state_dict = model.state_dict()           # for saving or loading the trained model\n",
    "    \n",
    "    return A_Train, L_Train, A_Test, L_Test, model_state_dict\n",
    "    "
   ]
  },
  {
   "cell_type": "markdown",
   "id": "834b1b08",
   "metadata": {},
   "source": [
    "# training..."
   ]
  },
  {
   "cell_type": "code",
   "execution_count": 8,
   "id": "fb62ba99",
   "metadata": {
    "scrolled": false
   },
   "outputs": [
    {
     "name": "stdout",
     "output_type": "stream",
     "text": [
      "number of qubits =  8\n",
      "number of quantum layers =  3\n",
      "number of angles (learnable parameters of quantum circuit) = 24\n",
      " \n",
      "batch_size = 64\n",
      "\n",
      "Epoch 1 ---------------------------------- \n",
      "\n",
      "train accuracy: 0.629,  train loss: 0.681\n",
      "test  accuracy: 0.652,  test  loss: 0.679\n",
      "\n",
      "train accuracy: 0.826,  train loss: 0.652\n",
      "test  accuracy: 0.841,  test  loss: 0.649\n",
      "\n",
      "train accuracy: 0.82,  train loss: 0.622\n",
      "test  accuracy: 0.833,  test  loss: 0.618\n",
      "\n",
      "train accuracy: 0.861,  train loss: 0.582\n",
      "test  accuracy: 0.864,  test  loss: 0.577\n",
      "\n",
      "Epoch 2 ---------------------------------- \n",
      "\n",
      "train accuracy: 0.865,  train loss: 0.579\n",
      "test  accuracy: 0.871,  test  loss: 0.574\n",
      "\n",
      "train accuracy: 0.944,  train loss: 0.543\n",
      "test  accuracy: 0.948,  test  loss: 0.538\n",
      "\n",
      "train accuracy: 0.967,  train loss: 0.521\n",
      "test  accuracy: 0.967,  test  loss: 0.515\n",
      "\n",
      "train accuracy: 0.929,  train loss: 0.509\n",
      "test  accuracy: 0.93,  test  loss: 0.505\n",
      "\n",
      "Epoch 3 ---------------------------------- \n",
      "\n",
      "train accuracy: 0.928,  train loss: 0.508\n",
      "test  accuracy: 0.929,  test  loss: 0.497\n",
      "\n",
      "train accuracy: 0.921,  train loss: 0.501\n",
      "test  accuracy: 0.926,  test  loss: 0.496\n",
      "\n",
      "train accuracy: 0.913,  train loss: 0.497\n",
      "test  accuracy: 0.916,  test  loss: 0.495\n",
      "\n",
      "train accuracy: 0.914,  train loss: 0.494\n",
      "test  accuracy: 0.915,  test  loss: 0.491\n",
      "\n",
      " ~~~~~ training is done ~~~~~\n",
      "\n",
      "CPU times: user 7min 14s, sys: 183 ms, total: 7min 14s\n",
      "Wall time: 1min 48s\n"
     ]
    }
   ],
   "source": [
    "%%time\n",
    "\n",
    "\n",
    "L = 3\n",
    "\n",
    "n_angs = n*L\n",
    "\n",
    "print(\"number of qubits = \", n)\n",
    "print(\"number of quantum layers = \", L)\n",
    "print(f\"number of angles (learnable parameters of quantum circuit) = {n_angs}\\n \")\n",
    "\n",
    "#--------------------------------------------------------------------------------------\n",
    "\n",
    "\n",
    "batch_size = 64\n",
    "print(f'batch_size = {batch_size}\\n')\n",
    "\n",
    "\n",
    "#----------------------------------------------------------------------------------\n",
    "\n",
    "\n",
    "A_Train, L_Train, A_Test, L_Test, model_state_dict = training(train_dataset, batch_size=batch_size, n=n, L=L,\n",
    "                                                              lr_=1e-3, weight_decay_=1e-8, epochs=3)\n",
    "\n",
    "\n",
    "print(f' ~~~~~ training is done ~~~~~\\n')"
   ]
  },
  {
   "cell_type": "code",
   "execution_count": 9,
   "id": "9f9a6522",
   "metadata": {},
   "outputs": [
    {
     "data": {
      "image/png": "[encoded data removed]",
      "text/plain": [
       "<Figure size 432x288 with 1 Axes>"
      ]
     },
     "metadata": {
      "needs_background": "light"
     },
     "output_type": "display_data"
    },
    {
     "data": {
      "image/png": "[encoded data removed]",
      "text/plain": [
       "<Figure size 432x288 with 1 Axes>"
      ]
     },
     "metadata": {
      "needs_background": "light"
     },
     "output_type": "display_data"
    }
   ],
   "source": [
    "plt.plot(A_Train, label='train set')\n",
    "plt.plot(A_Test, label='test set')\n",
    "plt.ylabel('accuracy')\n",
    "plt.legend()\n",
    "plt.show()\n",
    "\n",
    "plt.plot(L_Train, label='train set')\n",
    "plt.plot(L_Test, label='test set')\n",
    "plt.ylabel('loss')\n",
    "plt.legend()\n",
    "plt.show()"
   ]
  },
  {
   "cell_type": "markdown",
   "id": "416b30e5",
   "metadata": {},
   "source": [
    "## save model"
   ]
  },
  {
   "cell_type": "code",
   "execution_count": 10,
   "id": "988bcfc3",
   "metadata": {},
   "outputs": [],
   "source": [
    "torch.save(model_state_dict, \"model_MNIST_QNN2.pth\")"
   ]
  },
  {
   "cell_type": "markdown",
   "id": "bdf78969",
   "metadata": {},
   "source": [
    "## load model"
   ]
  },
  {
   "cell_type": "code",
   "execution_count": 11,
   "id": "3eb4ede1",
   "metadata": {},
   "outputs": [
    {
     "data": {
      "text/plain": [
       "<All keys matched successfully>"
      ]
     },
     "execution_count": 11,
     "metadata": {},
     "output_type": "execute_result"
    }
   ],
   "source": [
    "model = QNN(n=n, L=L).to(device)\n",
    "model.load_state_dict(model_state_dict)\n",
    "\n",
    "#model.load_state_dict(torch.load(\"model_MNIST_QNN.pth\"))"
   ]
  },
  {
   "cell_type": "markdown",
   "id": "52a30c42",
   "metadata": {},
   "source": [
    "## predict test examples"
   ]
  },
  {
   "cell_type": "code",
   "execution_count": 12,
   "id": "b5be82d3",
   "metadata": {
    "scrolled": false
   },
   "outputs": [
    {
     "name": "stdout",
     "output_type": "stream",
     "text": [
      "x of torch.Size([1, 16, 16]) :\n"
     ]
    },
    {
     "data": {
      "image/png": "[encoded data removed]",
      "text/plain": [
       "<Figure size 432x288 with 1 Axes>"
      ]
     },
     "metadata": {
      "needs_background": "light"
     },
     "output_type": "display_data"
    },
    {
     "name": "stdout",
     "output_type": "stream",
     "text": [
      "true label = y = 1.0\n",
      "\n",
      "predicted label = 1\n",
      "\n"
     ]
    },
    {
     "data": {
      "image/png": "[encoded data removed]",
      "text/plain": [
       "<Figure size 432x288 with 1 Axes>"
      ]
     },
     "metadata": {
      "needs_background": "light"
     },
     "output_type": "display_data"
    },
    {
     "name": "stdout",
     "output_type": "stream",
     "text": [
      "The sum of probability = 1.0\n"
     ]
    }
   ],
   "source": [
    "idx = np.random.choice(len(test_dataset))\n",
    "\n",
    "x = test_dataset[idx][0]\n",
    "print(f'x of {x.shape} :')\n",
    "plt.imshow(x[0], cmap='gray')\n",
    "plt.show()\n",
    "\n",
    "print(f'true label = y = {test_dataset[idx][1]}\\n')\n",
    "\n",
    "\n",
    "out = model(x.view(1, 1, size, size)).detach().flatten()\n",
    "prob = torch.stack([1 - out, out])\n",
    "pred = prob.argmax().item()\n",
    "print(f'predicted label = {pred}\\n')\n",
    "\n",
    "plt.stem(np.arange(2), prob)\n",
    "plt.ylabel('probability')\n",
    "plt.xlabel('class labels')\n",
    "plt.show()\n",
    "\n",
    "print(f'The sum of probability = {torch.sum(prob).item()}')"
   ]
  },
  {
   "cell_type": "markdown",
   "id": "8b298922",
   "metadata": {},
   "source": [
    "$ $\n",
    "\n",
    "$ $\n",
    "\n",
    "## simplified training loop"
   ]
  },
  {
   "cell_type": "code",
   "execution_count": 13,
   "id": "b3dcb3aa",
   "metadata": {},
   "outputs": [],
   "source": [
    "def one_epoch_(model, loss_fn, optimizer, dataset, batch_size):\n",
    "    \n",
    "    dataloader = DataLoader(dataset=dataset, batch_size=batch_size, shuffle=True)\n",
    "    \n",
    "    model.train()\n",
    "    for batch, (X, y) in enumerate(dataloader):\n",
    "        X, y = X.to(device), y.to(device)\n",
    "\n",
    "        out = model(X)                             # Perform a single forward pass\n",
    "        loss = loss_fn(out, y)          \n",
    "    \n",
    "        optimizer.zero_grad()                      # Clear gradients\n",
    "        loss.backward()                            # Derive gradients, backpropagation\n",
    "        optimizer.step()                           # Update parameters based on gradients\n",
    "    \n",
    "        if batch % batch_size == 0: \n",
    "            print(f\"train loss: {round(loss.item(),3)}\")\n",
    "\n",
    "\n",
    "    \n",
    "    \n",
    "def training_(dataset, batch_size, n, L, lr_, weight_decay_, epochs):\n",
    "    \n",
    "    model = QNN(n=n, L=L).to(device)\n",
    "    loss_fn = nn.BCELoss()\n",
    "    optimizer = torch.optim.Adam(model.parameters(), lr=lr_, weight_decay=weight_decay_)\n",
    "    \n",
    "    for t in range(epochs): \n",
    "        print(f\"Epoch {t+1} ---------------------------------- \\n \")\n",
    "        one_epoch_(model, loss_fn, optimizer, dataset, batch_size)\n",
    "        \n",
    "        #accuracy_train, loss_train = performance_estimate(train_dataset, model, loss_fn, 'train')\n",
    "        #accuracy_test, loss_test = performance_estimate(test_dataset, model, loss_fn, 'test ')\n",
    "        #print()\n",
    "\n",
    "    \n",
    "    model_state_dict = model.state_dict()\n",
    "    return model_state_dict\n",
    "\n",
    "    "
   ]
  },
  {
   "cell_type": "code",
   "execution_count": 14,
   "id": "7217eb93",
   "metadata": {
    "scrolled": false
   },
   "outputs": [
    {
     "name": "stdout",
     "output_type": "stream",
     "text": [
      "batch_size = 64\n",
      "\n",
      "Epoch 1 ---------------------------------- \n",
      " \n",
      "train loss: 0.674\n",
      "train loss: 0.64\n",
      "train loss: 0.594\n",
      "train loss: 0.566\n",
      "Epoch 2 ---------------------------------- \n",
      " \n",
      "train loss: 0.566\n",
      "train loss: 0.575\n",
      "train loss: 0.516\n",
      "train loss: 0.5\n",
      "Epoch 3 ---------------------------------- \n",
      " \n",
      "train loss: 0.52\n",
      "train loss: 0.511\n",
      "train loss: 0.488\n",
      "train loss: 0.493\n",
      "\n",
      " ~~~~~ training is done ~~~~~\n",
      "\n",
      "CPU times: user 1min 33s, sys: 47.8 ms, total: 1min 33s\n",
      "Wall time: 23.3 s\n"
     ]
    }
   ],
   "source": [
    "%%time\n",
    "\n",
    "\n",
    "batch_size = 64\n",
    "print(f'batch_size = {batch_size}\\n')\n",
    "\n",
    "#----------------------------------------------------------------------------------\n",
    "\n",
    "model_state_dict = training_(train_dataset, batch_size=batch_size, lr_=1e-3, n=n, L=L, \n",
    "                             weight_decay_=1e-8, epochs=3)\n",
    "\n",
    "print()\n",
    "print(f' ~~~~~ training is done ~~~~~\\n')"
   ]
  },
  {
   "cell_type": "code",
   "execution_count": 15,
   "id": "6f5645b9",
   "metadata": {},
   "outputs": [
    {
     "name": "stdout",
     "output_type": "stream",
     "text": [
      "train accuracy: 0.914,  train loss: 0.493\n",
      "test  accuracy: 0.916,  test  loss: 0.492\n",
      "\n",
      "CPU times: user 22.4 s, sys: 7.94 ms, total: 22.4 s\n",
      "Wall time: 5.62 s\n"
     ]
    }
   ],
   "source": [
    "%%time\n",
    "\n",
    "\n",
    "model = QNN(n=n, L=L).to(device)\n",
    "model.load_state_dict(model_state_dict)\n",
    "loss_fn = nn.BCELoss()\n",
    "\n",
    "\n",
    "accuracy_train, loss_train = performance_estimate(train_dataset, model, loss_fn, 'train')\n",
    "accuracy_test, loss_test = performance_estimate(test_dataset, model, loss_fn, 'test ')\n",
    "print()\n",
    "\n"
   ]
  },
  {
   "cell_type": "markdown",
   "id": "2c75a3b1",
   "metadata": {},
   "source": [
    "# "
   ]
  }
 ],
 "metadata": {
  "kernelspec": {
   "display_name": "Python 3 (ipykernel)",
   "language": "python",
   "name": "python3"
  },
  "language_info": {
   "codemirror_mode": {
    "name": "ipython",
    "version": 3
   },
   "file_extension": ".py",
   "mimetype": "text/x-python",
   "name": "python",
   "nbconvert_exporter": "python",
   "pygments_lexer": "ipython3",
   "version": "3.10.6"
  }
 },
 "nbformat": 4,
 "nbformat_minor": 5
}
