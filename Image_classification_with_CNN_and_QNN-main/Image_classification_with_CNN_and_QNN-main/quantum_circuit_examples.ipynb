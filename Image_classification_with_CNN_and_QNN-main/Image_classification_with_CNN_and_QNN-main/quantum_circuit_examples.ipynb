{
 "cells": [
  {
   "cell_type": "code",
   "execution_count": 1,
   "id": "0aaf95a2",
   "metadata": {},
   "outputs": [
    {
     "name": "stdout",
     "output_type": "stream",
     "text": [
      "\n"
     ]
    }
   ],
   "source": [
    "import torch\n",
    "#import numpy as np\n",
    "\n",
    "from quantum_circuit_simulator import quantum_circuit\n",
    "\n",
    "\n",
    "'''\n",
    "state_vector can \n",
    "(1) either be a vector of shape (dim,)\n",
    "(2) either be a matrix of shape (dim, number of examples)\n",
    "\n",
    "n is the number of qubits\n",
    "dim = 2**n\n",
    "'''\n",
    "\n",
    "print()"
   ]
  },
  {
   "cell_type": "markdown",
   "id": "2e53aba3",
   "metadata": {},
   "source": [
    "## X, Y, Z gates"
   ]
  },
  {
   "cell_type": "code",
   "execution_count": 2,
   "id": "60902d84",
   "metadata": {},
   "outputs": [
    {
     "name": "stdout",
     "output_type": "stream",
     "text": [
      "tensor([1.+0.j, 2.+0.j]) = initial state vector\n",
      "\n",
      "1 = n\n",
      "2 = dim\n",
      "\n",
      "tensor([[1.+0.j, 0.+0.j],\n",
      "        [0.+0.j, 1.+0.j]]) = I\n",
      "tensor([[0.+0.j, 1.+0.j],\n",
      "        [1.+0.j, 0.+0.j]]) = X\n",
      "tensor([[0.+0.j, -0.-1.j],\n",
      "        [0.+1.j, 0.+0.j]]) = Y\n",
      "tensor([[ 1.+0.j,  0.+0.j],\n",
      "        [ 0.+0.j, -1.+0.j]]) = Z\n",
      "tensor([[ 0.7071+0.j,  0.7071+0.j],\n",
      "        [ 0.7071+0.j, -0.7071+0.j]]) = H\n",
      "tensor([[1.+0.j, 0.+0.j],\n",
      "        [0.+0.j, 0.+0.j]]) = proj_0\n",
      "tensor([[0.+0.j, 0.+0.j],\n",
      "        [0.+0.j, 1.+0.j]]) = proj_1\n",
      "\n",
      "tensor([2.+0.j, 1.+0.j]) = final state vector\n",
      "\n"
     ]
    }
   ],
   "source": [
    "num_qubits = 1\n",
    "dim = 2**num_qubits\n",
    "\n",
    "state_vector = torch.arange(dim) + 1  # state_vector must be normalized\n",
    "#state_vector = state_vector.reshape(-1,1)\n",
    "qc = quantum_circuit(num_qubits = num_qubits, state_vector = state_vector)\n",
    "print(qc.state_vector, '= initial state vector\\n')\n",
    "\n",
    "print(qc.n, '= n')\n",
    "print(qc.dim, '= dim\\n')\n",
    "print(qc.I, '= I')\n",
    "print(qc.x_matrix, '= X')\n",
    "print(qc.y_matrix, '= Y')\n",
    "print(qc.z_matrix, '= Z')\n",
    "\n",
    "print(qc.h_matrix, '= H')\n",
    "\n",
    "print(qc.proj_0, '= proj_0')\n",
    "print(qc.proj_1, '= proj_1\\n')\n",
    "\n",
    "\n",
    "qc.x(0)\n",
    "#qc.y(0)\n",
    "#qc.z(2)\n",
    "\n",
    "print(qc.state_vector, '= final state vector\\n')\n",
    "\n"
   ]
  },
  {
   "cell_type": "markdown",
   "id": "b4fa3fc7",
   "metadata": {},
   "source": [
    "## H gate"
   ]
  },
  {
   "cell_type": "code",
   "execution_count": 3,
   "id": "49b82f13",
   "metadata": {},
   "outputs": [
    {
     "name": "stdout",
     "output_type": "stream",
     "text": [
      "tensor([[1.+0.j],\n",
      "        [0.+0.j],\n",
      "        [0.+0.j],\n",
      "        [0.+0.j],\n",
      "        [0.+0.j],\n",
      "        [0.+0.j],\n",
      "        [0.+0.j],\n",
      "        [0.+0.j]]) = initial state vector\n",
      "\n",
      "tensor([[0.5000+0.j],\n",
      "        [0.0000+0.j],\n",
      "        [0.5000+0.j],\n",
      "        [0.0000+0.j],\n",
      "        [0.5000+0.j],\n",
      "        [0.0000+0.j],\n",
      "        [0.5000+0.j],\n",
      "        [0.0000+0.j]]) = final state vector\n",
      "\n"
     ]
    }
   ],
   "source": [
    "num_qubits = 3\n",
    "dim = 2**num_qubits\n",
    "\n",
    "qc = quantum_circuit(num_qubits = num_qubits)\n",
    "print(qc.state_vector, '= initial state vector\\n')\n",
    "\n",
    "qc.h(0)\n",
    "qc.h(1)\n",
    "print(qc.state_vector, '= final state vector\\n')"
   ]
  },
  {
   "cell_type": "markdown",
   "id": "ac7da2a2",
   "metadata": {},
   "source": [
    "## Rx, Ry, Rz gates"
   ]
  },
  {
   "cell_type": "code",
   "execution_count": 4,
   "id": "7aeac4d1",
   "metadata": {},
   "outputs": [
    {
     "name": "stdout",
     "output_type": "stream",
     "text": [
      "tensor([[1.+0.j],\n",
      "        [0.+0.j],\n",
      "        [0.+0.j],\n",
      "        [0.+0.j]]) = initial state vector\n",
      "\n",
      "[tensor(0.9394, grad_fn=<CosBackward0>), tensor(0.3429, grad_fn=<SinBackward0>)] \n",
      "\n",
      "[tensor(0.7649, grad_fn=<CosBackward0>), tensor(0.6442, grad_fn=<SinBackward0>)] \n",
      "\n",
      "tensor([[0.9394+0.j],\n",
      "        [0.0000+0.j],\n",
      "        [0.3429+0.j],\n",
      "        [0.0000+0.j]], grad_fn=<MmBackward0>) = final state vector\n",
      "\n"
     ]
    }
   ],
   "source": [
    "num_qubits = 2\n",
    "dim = 2**num_qubits\n",
    "\n",
    "\n",
    "qc = quantum_circuit(num_qubits = num_qubits)\n",
    "print(qc.state_vector, '= initial state vector\\n')\n",
    "\n",
    "\n",
    "\n",
    "ang_ = torch.rand(1, requires_grad=True)\n",
    "ang=ang_[0]\n",
    "\n",
    "print([torch.cos(ang/2), torch.sin(ang/2)], '\\n')\n",
    "print([torch.cos(ang), torch.sin(ang)], '\\n')\n",
    "\n",
    "\n",
    "\n",
    "#qc.Rx(0, ang)\n",
    "\n",
    "\n",
    "qc.Ry(0, ang)\n",
    "\n",
    "#qc.x(0)\n",
    "#qc.Rz(0, ang)\n",
    "\n",
    "\n",
    "print(qc.state_vector, '= final state vector\\n')"
   ]
  },
  {
   "cell_type": "markdown",
   "id": "e8962768",
   "metadata": {},
   "source": [
    "## general rotation R"
   ]
  },
  {
   "cell_type": "code",
   "execution_count": 5,
   "id": "18c0b6f6",
   "metadata": {},
   "outputs": [
    {
     "name": "stdout",
     "output_type": "stream",
     "text": [
      "tensor([[1.+0.j],\n",
      "        [0.+0.j]]) = initial state vector\n",
      "\n",
      "[tensor(0.9846, grad_fn=<CosBackward0>), tensor(0.1748, grad_fn=<SinBackward0>)] \n",
      "\n",
      "[tensor(0.9389, grad_fn=<CosBackward0>), tensor(0.3443, grad_fn=<SinBackward0>)] \n",
      "\n",
      "tensor([[0.0000+0.0000j],\n",
      "        [0.9389+0.3443j]], grad_fn=<MmBackward0>) = final state vector\n",
      "\n"
     ]
    }
   ],
   "source": [
    "num_qubits = 1\n",
    "dim = 2**num_qubits\n",
    "\n",
    "\n",
    "qc = quantum_circuit(num_qubits = num_qubits)\n",
    "print(qc.state_vector, '= initial state vector\\n')\n",
    "\n",
    "ang_ = torch.rand(1, requires_grad=True)\n",
    "ang=ang_[0]\n",
    "\n",
    "\n",
    "print([torch.cos(ang/2), torch.sin(ang/2)], '\\n')\n",
    "print([torch.cos(ang), torch.sin(ang)], '\\n')\n",
    "zero = torch.tensor(0.0)\n",
    "\n",
    "\n",
    "theta = zero #ang \n",
    "phi = zero #ang\n",
    "lamda = ang #zero\n",
    "\n",
    "\n",
    "\n",
    "qc.x(0)\n",
    "qc.R(0, theta=theta, phi=phi, lamda=lamda)\n",
    "print(qc.state_vector, '= final state vector\\n')\n",
    "\n",
    "\n"
   ]
  },
  {
   "cell_type": "markdown",
   "id": "d18a9854",
   "metadata": {},
   "source": [
    "## CX, CZ gates"
   ]
  },
  {
   "cell_type": "code",
   "execution_count": 6,
   "id": "6cb1b102",
   "metadata": {},
   "outputs": [
    {
     "name": "stdout",
     "output_type": "stream",
     "text": [
      "tensor([1.+0.j, 2.+0.j, 3.+0.j, 4.+0.j, 5.+0.j, 6.+0.j, 7.+0.j, 8.+0.j]) = initial state vector\n",
      "\n",
      "tensor([ 1.+0.j,  2.+0.j,  3.+0.j,  4.+0.j,  5.+0.j,  6.+0.j, -7.+0.j, -8.+0.j]) = final state vector\n",
      "\n"
     ]
    }
   ],
   "source": [
    "num_qubits = 3\n",
    "dim = 2**num_qubits\n",
    "\n",
    "\n",
    "state_vector = torch.arange(dim) + 1  # state_vector must be normalized\n",
    "#state_vector = state_vector.reshape(-1,1)\n",
    "qc = quantum_circuit(num_qubits = num_qubits, state_vector = state_vector)\n",
    "print(qc.state_vector, '= initial state vector\\n')\n",
    "\n",
    "#qc.cx(control=0, target=1)\n",
    "qc.cz(control=0, target=1)\n",
    "\n",
    "print(qc.state_vector, '= final state vector\\n')"
   ]
  },
  {
   "cell_type": "code",
   "execution_count": 7,
   "id": "4add728a",
   "metadata": {},
   "outputs": [
    {
     "name": "stdout",
     "output_type": "stream",
     "text": [
      "tensor([[0.3959+0.j, 0.0264+0.j],\n",
      "        [0.7602+0.j, 0.7937+0.j],\n",
      "        [0.6448+0.j, 0.6465+0.j],\n",
      "        [0.3658+0.j, 0.4472+0.j],\n",
      "        [0.9422+0.j, 0.6814+0.j],\n",
      "        [0.5886+0.j, 0.2620+0.j],\n",
      "        [0.3211+0.j, 0.7520+0.j],\n",
      "        [0.6750+0.j, 0.4294+0.j]]) = initial state vectors\n",
      "\n",
      "tensor([[ 0.3959+0.j,  0.0264+0.j],\n",
      "        [ 0.7602+0.j,  0.7937+0.j],\n",
      "        [ 0.6448+0.j,  0.6465+0.j],\n",
      "        [ 0.3658+0.j,  0.4472+0.j],\n",
      "        [ 0.9422+0.j,  0.6814+0.j],\n",
      "        [ 0.5886+0.j,  0.2620+0.j],\n",
      "        [-0.3211+0.j, -0.7520+0.j],\n",
      "        [-0.6750+0.j, -0.4294+0.j]]) = final state vector\n",
      "\n"
     ]
    }
   ],
   "source": [
    "num_qubits = 3\n",
    "dim = 2**num_qubits\n",
    "\n",
    "state_vector = torch.rand((dim, 2))  # state_vector must be normalized\n",
    "qc = quantum_circuit(num_qubits = num_qubits, state_vector = state_vector)\n",
    "print(qc.state_vector, '= initial state vectors\\n')\n",
    "\n",
    "\n",
    "#qc.cx(control=0, target=1)\n",
    "qc.cz(control=0, target=1)\n",
    "\n",
    "print(qc.state_vector, '= final state vector\\n')"
   ]
  },
  {
   "cell_type": "markdown",
   "id": "885e524b",
   "metadata": {},
   "source": [
    "# cx_, cz_linear_layer"
   ]
  },
  {
   "cell_type": "code",
   "execution_count": 8,
   "id": "b8534c5c",
   "metadata": {},
   "outputs": [
    {
     "name": "stdout",
     "output_type": "stream",
     "text": [
      "3 4\n",
      "2 3\n",
      "1 2\n",
      "0 1\n"
     ]
    }
   ],
   "source": [
    "nn = 5\n",
    "\n",
    "print(nn-2, nn-1)\n",
    "for i in range(nn - 3, -1, -1):\n",
    "    print(i, i+1)"
   ]
  },
  {
   "cell_type": "code",
   "execution_count": 9,
   "id": "88b94daf",
   "metadata": {},
   "outputs": [
    {
     "name": "stdout",
     "output_type": "stream",
     "text": [
      "tensor([1.+0.j, 2.+0.j, 3.+0.j, 4.+0.j, 5.+0.j, 6.+0.j, 7.+0.j, 8.+0.j]) = initial state vector\n",
      "\n",
      "tensor([1.+0.j, 2.+0.j, 4.+0.j, 3.+0.j, 8.+0.j, 7.+0.j, 5.+0.j, 6.+0.j]) = final state vector\n",
      "\n"
     ]
    }
   ],
   "source": [
    "num_qubits = 3\n",
    "dim = 2**num_qubits\n",
    "\n",
    "state_vector = torch.arange(dim) + 1  # state_vector must be normalized\n",
    "#state_vector = state_vector.reshape(-1,1)\n",
    "qc = quantum_circuit(num_qubits = num_qubits, state_vector = state_vector)\n",
    "print(qc.state_vector, '= initial state vector\\n')\n",
    "\n",
    "''' \n",
    "cx_linear_layer applies cx(n-1,n) ... cx(2,3) cx(1,2) cx(0,1) |state_vector>\n",
    "\n",
    "NOTE: First cx(0,1) will act on |state_vector>, then cx(1,2)\n",
    "      And in the last cx(n-1,n) will act.\n",
    "      order matter in case of cx\n",
    "'''\n",
    "\n",
    "qc.cx_linear_layer()\n",
    "\n",
    "#qc.cz_linear_layer()\n",
    "print(qc.state_vector, '= final state vector\\n')"
   ]
  },
  {
   "cell_type": "markdown",
   "id": "48954fe1",
   "metadata": {},
   "source": [
    "# Ry_layer"
   ]
  },
  {
   "cell_type": "code",
   "execution_count": 10,
   "id": "0ab3be16",
   "metadata": {},
   "outputs": [
    {
     "name": "stdout",
     "output_type": "stream",
     "text": [
      "tensor([[1.+0.j],\n",
      "        [0.+0.j],\n",
      "        [0.+0.j],\n",
      "        [0.+0.j]]) = initial state vector\n",
      "\n",
      "ang = tensor([0.8070, 0.8190], requires_grad=True)\n",
      "ang = tensor([0.8070+0.j, 0.8190+0.j], grad_fn=<ToCopyBackward0>)\n"
     ]
    },
    {
     "data": {
      "text/plain": [
       "tensor([[0.4724+0.j],\n",
       "        [0.5053+0.j],\n",
       "        [0.4932+0.j],\n",
       "        [0.5275+0.j]], grad_fn=<MmBackward0>)"
      ]
     },
     "execution_count": 10,
     "metadata": {},
     "output_type": "execute_result"
    }
   ],
   "source": [
    "num_qubits = 2\n",
    "dim = 2**num_qubits\n",
    "\n",
    "\n",
    "qc = quantum_circuit(num_qubits = num_qubits)\n",
    "print(qc.state_vector, '= initial state vector\\n')\n",
    "\n",
    "\n",
    "\n",
    "ang = torch.rand(num_qubits, dtype=torch.float, requires_grad=True)\n",
    "print('ang =',ang)\n",
    "ang = ang.to(torch.cfloat)   # = torch.complex(real=ang, imag=torch.zeros(num_qubits))\n",
    "print('ang =',ang)\n",
    "\n",
    "\n",
    "\n",
    "qc.Ry_layer(ang)"
   ]
  },
  {
   "cell_type": "code",
   "execution_count": null,
   "id": "779636d0",
   "metadata": {},
   "outputs": [],
   "source": []
  },
  {
   "cell_type": "code",
   "execution_count": null,
   "id": "df53882f",
   "metadata": {},
   "outputs": [],
   "source": []
  },
  {
   "cell_type": "code",
   "execution_count": null,
   "id": "892b33be",
   "metadata": {},
   "outputs": [],
   "source": []
  }
 ],
 "metadata": {
  "kernelspec": {
   "display_name": "Python 3 (ipykernel)",
   "language": "python",
   "name": "python3"
  },
  "language_info": {
   "codemirror_mode": {
    "name": "ipython",
    "version": 3
   },
   "file_extension": ".py",
   "mimetype": "text/x-python",
   "name": "python",
   "nbconvert_exporter": "python",
   "pygments_lexer": "ipython3",
   "version": "3.10.6"
  }
 },
 "nbformat": 4,
 "nbformat_minor": 5
}
