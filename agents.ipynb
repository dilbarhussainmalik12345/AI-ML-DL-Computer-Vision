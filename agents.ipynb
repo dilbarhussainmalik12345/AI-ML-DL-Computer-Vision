{
  "nbformat": 4,
  "nbformat_minor": 0,
  "metadata": {
    "colab": {
      "provenance": [],
      "authorship_tag": "ABX9TyNjlndYF1wJi0OakQj2XBaU",
      "include_colab_link": true
    },
    "kernelspec": {
      "name": "python3",
      "display_name": "Python 3"
    },
    "language_info": {
      "name": "python"
    }
  },
  "cells": [
    {
      "cell_type": "markdown",
      "metadata": {
        "id": "view-in-github",
        "colab_type": "text"
      },
      "source": [
        "<a href=\"https://colab.research.google.com/github/dilbarhussainmalik12345/AI-ML-DL-Computer-Vision/blob/main/agents.ipynb\" target=\"_parent\"><img src=\"https://colab.research.google.com/assets/colab-badge.svg\" alt=\"Open In Colab\"/></a>"
      ]
    },
    {
      "cell_type": "code",
      "source": [
        "class Person:\n",
        "    def __init__(self, name, age):  # The constructor method\n",
        "        self.name = name            # Initialize the 'name' attribute\n",
        "        self.age = age              # Initialize the 'age' attribute\n",
        "\n",
        "    def greet(self):\n",
        "        print(f\"Hello, my name is {self.name} and I am {self.age} years old.\")\n"
      ],
      "metadata": {
        "id": "JlSq2ZkA5GLa"
      },
      "execution_count": null,
      "outputs": []
    },
    {
      "cell_type": "code",
      "source": [
        "# Create a new object of the Person class\n",
        "person1 = Person(\"Ahmed\", 30)\n",
        "\n",
        "# Access the initialized values and call a method\n",
        "person1.greet()\n",
        "\n"
      ],
      "metadata": {
        "colab": {
          "base_uri": "https://localhost:8080/"
        },
        "id": "DlOeh8R85LbI",
        "outputId": "3ae53035-9c34-494b-a877-de51c56306e2"
      },
      "execution_count": null,
      "outputs": [
        {
          "output_type": "stream",
          "name": "stdout",
          "text": [
            "Hello, my name is Ahmed and I am 30 years old.\n"
          ]
        }
      ]
    },
    {
      "cell_type": "code",
      "execution_count": null,
      "metadata": {
        "id": "DLBfoM7l1w1S"
      },
      "outputs": [],
      "source": [
        "#Simple Reflex Agent"
      ]
    },
    {
      "cell_type": "code",
      "source": [
        "class SimpleReflexAgent:\n",
        "    def __init__(self):\n",
        "        self.rules = {\n",
        "            \"clean\": \"do nothing\",\n",
        "            \"dirty\": \"clean\"\n",
        "        }\n",
        "\n",
        "    def perceive(self, environment):\n",
        "        return environment[\"status\"]\n",
        "\n",
        "    def act(self, perception):\n",
        "        return self.rules[perception]"
      ],
      "metadata": {
        "id": "e-ftQBxn15MZ"
      },
      "execution_count": null,
      "outputs": []
    },
    {
      "cell_type": "code",
      "source": [
        "# Environment setup\n",
        "environment = {\"status\": \"dirty\"}  # Can be \"clean\" or \"dirty\"\n",
        "\n",
        "# Agent perception and action\n",
        "agent = SimpleReflexAgent()\n",
        "perception = agent.perceive(environment)\n",
        "action = agent.act(perception)\n",
        "print(f\"Perceived: {perception}, Action: {action}\")\n"
      ],
      "metadata": {
        "colab": {
          "base_uri": "https://localhost:8080/"
        },
        "id": "I8bzmfdX2Dgd",
        "outputId": "2ee3121c-85ad-450d-bfbc-5044b8adb3a2"
      },
      "execution_count": null,
      "outputs": [
        {
          "output_type": "stream",
          "name": "stdout",
          "text": [
            "Perceived: dirty, Action: clean\n"
          ]
        }
      ]
    },
    {
      "cell_type": "code",
      "source": [
        "#Model Based Agent"
      ],
      "metadata": {
        "id": "3c1nwCAJ2H35"
      },
      "execution_count": null,
      "outputs": []
    },
    {
      "cell_type": "code",
      "source": [
        "class ModelBasedAgent:\n",
        "    def __init__(self):\n",
        "        self.rules = {\n",
        "            \"clean\": \"do nothing\",\n",
        "            \"dirty\": \"clean\"\n",
        "        }\n",
        "        self.model = {\"status\": None}\n",
        "\n",
        "    def update_state(self, environment):\n",
        "        self.model[\"status\"] = environment[\"status\"]\n",
        "\n",
        "    def act(self):\n",
        "        return self.rules[self.model[\"status\"]]\n"
      ],
      "metadata": {
        "id": "HvmBlra72tbM"
      },
      "execution_count": null,
      "outputs": []
    },
    {
      "cell_type": "code",
      "source": [
        "# Environment setup\n",
        "environment = {\"status\": \"dirty\"}\n",
        "\n",
        "# Agent state update and action\n",
        "agent = ModelBasedAgent()\n",
        "agent.update_state(environment)\n",
        "action = agent.act()\n",
        "print(f\"Model State:----> {agent.model},  \\nAction:----> {action}\")"
      ],
      "metadata": {
        "colab": {
          "base_uri": "https://localhost:8080/"
        },
        "id": "UpffashF2vpq",
        "outputId": "a4afca6f-0164-48f7-848b-1843312cfd32"
      },
      "execution_count": null,
      "outputs": [
        {
          "output_type": "stream",
          "name": "stdout",
          "text": [
            "Model State:----> {'status': 'dirty'},  \n",
            "Action:----> clean\n"
          ]
        }
      ]
    },
    {
      "cell_type": "code",
      "source": [
        "#Goal-Based Agent"
      ],
      "metadata": {
        "id": "udgiBwk72w4t"
      },
      "execution_count": null,
      "outputs": []
    },
    {
      "cell_type": "code",
      "source": [
        "class GoalBasedAgent:\n",
        "    def __init__(self):\n",
        "        self.goal = \"room is clean\"\n",
        "\n",
        "    def perceive(self, environment):\n",
        "        return environment[\"status\"]\n",
        "\n",
        "    def check_goal(self, perception):\n",
        "        if perception == \"dirty\":\n",
        "            return \"clean\"\n",
        "        else:\n",
        "            return \"do nothing\"\n"
      ],
      "metadata": {
        "id": "8r3hdexR3vEo"
      },
      "execution_count": null,
      "outputs": []
    },
    {
      "cell_type": "code",
      "source": [
        "# Environment setup\n",
        "environment = {\"status\": \"dirty\"}\n",
        "\n",
        "# Agent goal checking and action\n",
        "agent = GoalBasedAgent()\n",
        "perception = agent.perceive(environment)\n",
        "action = agent.check_goal(perception)\n",
        "print(f\"Perceived:----> {perception}, \\nGoal-based action:----> {action}\")\n"
      ],
      "metadata": {
        "colab": {
          "base_uri": "https://localhost:8080/"
        },
        "id": "IvKKGjTc31qn",
        "outputId": "d640f582-df4c-4de5-8a38-4d06edf1374d"
      },
      "execution_count": null,
      "outputs": [
        {
          "output_type": "stream",
          "name": "stdout",
          "text": [
            "Perceived:----> dirty, \n",
            "Goal-based action:----> clean\n"
          ]
        }
      ]
    },
    {
      "cell_type": "code",
      "source": [
        "#Utility-Based Agent"
      ],
      "metadata": {
        "id": "5eumGuRw32oa"
      },
      "execution_count": null,
      "outputs": []
    },
    {
      "cell_type": "code",
      "source": [
        "class UtilityBasedAgent:\n",
        "    def __init__(self):\n",
        "        self.utility = {\"clean\": 10, \"dirty\": -10}\n",
        "\n",
        "    def perceive(self, environment):\n",
        "        return environment[\"status\"]\n",
        "\n",
        "    def compute_utility(self, perception):\n",
        "        return self.utility[perception]\n"
      ],
      "metadata": {
        "id": "hrpS7w1E4LAL"
      },
      "execution_count": null,
      "outputs": []
    },
    {
      "cell_type": "code",
      "source": [
        "# Environment setup\n",
        "environment = {\"status\": \"dirty\"}\n",
        "\n",
        "# Agent perception and utility computation\n",
        "agent = UtilityBasedAgent()\n",
        "perception = agent.perceive(environment)\n",
        "utility = agent.compute_utility(perception)\n",
        "print(f\"Perceived:---> {perception}, \\n\\nUtility: {utility}\")\n"
      ],
      "metadata": {
        "colab": {
          "base_uri": "https://localhost:8080/"
        },
        "id": "9W2TgJt74PrE",
        "outputId": "6fdf724d-fc56-4e31-8573-066f53fc884c"
      },
      "execution_count": null,
      "outputs": [
        {
          "output_type": "stream",
          "name": "stdout",
          "text": [
            "Perceived:---> dirty, \n",
            "\n",
            "Utility: -10\n"
          ]
        }
      ]
    },
    {
      "cell_type": "code",
      "source": [
        "#Learning Agent"
      ],
      "metadata": {
        "id": "Q7Dh3mSP4Q23"
      },
      "execution_count": null,
      "outputs": []
    },
    {
      "cell_type": "code",
      "source": [
        "import random\n",
        "\n",
        "class LearningAgent:\n",
        "    def __init__(self):\n",
        "        self.q_table = {\"clean\": 1, \"dirty\": -1}  # Initial knowledge (Q-values)\n",
        "        self.learning_rate = 0.5\n",
        "        self.environment = {\"status\": random.choice([\"clean\", \"dirty\"])}\n",
        "\n",
        "    def perceive(self):\n",
        "        return self.environment[\"status\"]\n",
        "\n",
        "    def update_q_value(self, perception, reward):\n",
        "        old_value = self.q_table[perception]\n",
        "        new_value = old_value + self.learning_rate * (reward - old_value)\n",
        "        self.q_table[perception] = new_value\n",
        "\n",
        "    def act(self):\n",
        "        perception = self.perceive()\n",
        "        action = \"clean\" if perception == \"dirty\" else \"do nothing\"\n",
        "        reward = 10 if perception == \"dirty\" else 0\n",
        "        self.update_q_value(perception, reward)\n",
        "        return action, reward\n"
      ],
      "metadata": {
        "id": "A4kJF2k54kcb"
      },
      "execution_count": null,
      "outputs": []
    },
    {
      "cell_type": "code",
      "source": [
        "# Initialize agent and simulate learning\n",
        "agent = LearningAgent()\n",
        "\n",
        "for episode in range(5):\n",
        "    action, reward = agent.act()\n",
        "    print(f\"Episode {episode + 1}: Action: {action}, Reward: {reward}, Q-values: {agent.q_table}\")\n"
      ],
      "metadata": {
        "colab": {
          "base_uri": "https://localhost:8080/"
        },
        "id": "ObeOJnRQ4qNs",
        "outputId": "0d416581-7791-4b50-b87b-8d5d614aca43"
      },
      "execution_count": null,
      "outputs": [
        {
          "output_type": "stream",
          "name": "stdout",
          "text": [
            "Episode 1: Action: do nothing, Reward: 0, Q-values: {'clean': 0.5, 'dirty': -1}\n",
            "Episode 2: Action: do nothing, Reward: 0, Q-values: {'clean': 0.25, 'dirty': -1}\n",
            "Episode 3: Action: do nothing, Reward: 0, Q-values: {'clean': 0.125, 'dirty': -1}\n",
            "Episode 4: Action: do nothing, Reward: 0, Q-values: {'clean': 0.0625, 'dirty': -1}\n",
            "Episode 5: Action: do nothing, Reward: 0, Q-values: {'clean': 0.03125, 'dirty': -1}\n"
          ]
        }
      ]
    },
    {
      "cell_type": "code",
      "source": [],
      "metadata": {
        "id": "Fp-HSlj24rYm"
      },
      "execution_count": null,
      "outputs": []
    }
  ]
}