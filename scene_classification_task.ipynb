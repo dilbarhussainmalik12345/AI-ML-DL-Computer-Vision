{
 "cells": [
  {
   "cell_type": "code",
   "execution_count": 1,
   "metadata": {
    "executionInfo": {
     "elapsed": 2254,
     "status": "ok",
     "timestamp": 1713953118106,
     "user": {
      "displayName": "Dilbar Hussain Malik",
      "userId": "17549486456480247091"
     },
     "user_tz": -300
    },
    "id": "KuNYUfmDaf74"
   },
   "outputs": [],
   "source": [
    "import os\n",
    "import cv2\n",
    "import numpy as np\n",
    "from sklearn.model_selection import train_test_split\n",
    "from sklearn.svm import SVC\n",
    "from sklearn.metrics import classification_report, accuracy_score\n",
    "from sklearn.preprocessing import StandardScaler\n",
    "from sklearn.decomposition import PCA"
   ]
  },
  {
   "cell_type": "code",
   "execution_count": 2,
   "metadata": {
    "executionInfo": {
     "elapsed": 4,
     "status": "ok",
     "timestamp": 1713953120878,
     "user": {
      "displayName": "Dilbar Hussain Malik",
      "userId": "17549486456480247091"
     },
     "user_tz": -300
    },
    "id": "kHA4Ep44bL5x"
   },
   "outputs": [],
   "source": [
    "# Function to load images from a directory\n",
    "def load_images_from_folder(folder):\n",
    "    images = []\n",
    "    for filename in os.listdir(folder):\n",
    "        img = cv2.imread(os.path.join(folder, filename))\n",
    "        if img is not None:\n",
    "            images.append(img)\n",
    "    return images"
   ]
  },
  {
   "cell_type": "code",
   "execution_count": 3,
   "metadata": {
    "executionInfo": {
     "elapsed": 450,
     "status": "ok",
     "timestamp": 1713953124506,
     "user": {
      "displayName": "Dilbar Hussain Malik",
      "userId": "17549486456480247091"
     },
     "user_tz": -300
    },
    "id": "MPeq5YDmbTsG"
   },
   "outputs": [],
   "source": [
    "# Function to extract features from images\n",
    "def extract_features(images):\n",
    "    features = []\n",
    "    for img in images:\n",
    "        # Here, you can implement different feature extraction methods such as color histograms, HOG, etc.\n",
    "        # For simplicity, we'll just flatten the image into a feature vector\n",
    "        features.append(img.flatten())\n",
    "    return features"
   ]
  },
  {
   "cell_type": "code",
   "execution_count": 4,
   "metadata": {
    "executionInfo": {
     "elapsed": 7043,
     "status": "ok",
     "timestamp": 1713953203075,
     "user": {
      "displayName": "Dilbar Hussain Malik",
      "userId": "17549486456480247091"
     },
     "user_tz": -300
    },
    "id": "IlCNBuPpbT7q"
   },
   "outputs": [],
   "source": [
    "# Path to the directory containing scene images\n",
    "dataset_path = \"C:\\\\Users\\\\Asad Computrs\\\\Downloads\\\\scene classification\"\n",
    "\n",
    "# Load images and extract features\n",
    "scenes = [\"forest\", \"beach\", \"city\"]  # Example scene categories\n",
    "data = []\n",
    "labels = []\n",
    "for scene in scenes:\n",
    "    folder_path = os.path.join(dataset_path, scene)\n",
    "    scene_images = load_images_from_folder(folder_path)\n",
    "    data.extend(scene_images)\n",
    "    labels.extend([scene] * len(scene_images))"
   ]
  },
  {
   "cell_type": "code",
   "execution_count": null,
   "metadata": {
    "colab": {
     "base_uri": "https://localhost:8080/"
    },
    "executionInfo": {
     "elapsed": 101698,
     "status": "ok",
     "timestamp": 1713954794253,
     "user": {
      "displayName": "Dilbar Hussain Malik",
      "userId": "17549486456480247091"
     },
     "user_tz": -300
    },
    "id": "cK4GelC8bUIJ",
    "outputId": "f0599718-4a2b-45b7-fa37-44024147096b"
   },
   "outputs": [],
   "source": [
    "# Convert data and labels to numpy arrays\n",
    "data = np.array(data)\n",
    "labels = np.array(labels)\n",
    "\n",
    "# Split data into training and testing sets\n",
    "X_train, X_test, y_train, y_test = train_test_split(data, labels, test_size=0.2, random_state=42)\n",
    "\n",
    "# Feature extraction (you can implement more sophisticated feature extraction methods here)\n",
    "X_train_features = extract_features(X_train)\n",
    "X_test_features = extract_features(X_test)\n",
    "\n",
    "# Standardize features\n",
    "scaler = StandardScaler()\n",
    "X_train_scaled = scaler.fit_transform(X_train_features)\n",
    "X_test_scaled = scaler.transform(X_test_features)\n",
    "\n",
    "# Perform PCA for dimensionality reduction (optional)\n",
    "pca = PCA(n_components=100)  # You can adjust the number of components\n",
    "X_train_pca = pca.fit_transform(X_train_scaled)\n",
    "X_test_pca = pca.transform(X_test_scaled)\n",
    "\n",
    "# Train a classifier\n",
    "classifier = SVC(kernel='linear', C=1.0, random_state=42)\n",
    "classifier.fit(X_train_pca, y_train)\n",
    "\n",
    "# Evaluate the classifier\n",
    "y_pred = classifier.predict(X_test_pca)\n",
    "accuracy = accuracy_score(y_test, y_pred)\n",
    "print(\"Accuracy:\", accuracy)\n",
    "print(classification_report(y_test, y_pred))\n"
   ]
  },
  {
   "cell_type": "code",
   "execution_count": 13,
   "metadata": {
    "colab": {
     "base_uri": "https://localhost:8080/"
    },
    "executionInfo": {
     "elapsed": 1067,
     "status": "ok",
     "timestamp": 1713958094745,
     "user": {
      "displayName": "Dilbar Hussain Malik",
      "userId": "17549486456480247091"
     },
     "user_tz": -300
    },
    "id": "P9bQ7XnpkvSH",
    "outputId": "81f845d1-d821-4a0d-d12b-47d35bee3536"
   },
   "outputs": [
    {
     "name": "stdout",
     "output_type": "stream",
     "text": [
      "Predicted Scene: beach\n"
     ]
    }
   ],
   "source": [
    "# Load a sample image for classification\n",
    "sample_image_path = \"C:\\\\Users\\\\Asad Computrs\\\\Downloads\\\\scene classification\\\\beach.jpg\"  # Replace with the path to your sample image\n",
    "sample_image = cv2.imread(sample_image_path)\n",
    "sample_image_feature = extract_features([sample_image])\n",
    "sample_image_feature_scaled = scaler.transform(sample_image_feature)\n",
    "sample_image_feature_pca = pca.transform(sample_image_feature_scaled)\n",
    "\n",
    "# Perform classification on the sample image\n",
    "predicted_scene = classifier.predict(sample_image_feature_pca)[0]\n",
    "print(\"Predicted Scene:\", predicted_scene)"
   ]
  }
 ],
 "metadata": {
  "colab": {
   "authorship_tag": "ABX9TyNbZVw9gp+dFQNYwT5GtTmY",
   "mount_file_id": "12Svd3_Jkemn5560JQ-_o6M06AIrPtfb0",
   "provenance": []
  },
  "kernelspec": {
   "display_name": "Python 3 (ipykernel)",
   "language": "python",
   "name": "python3"
  },
  "language_info": {
   "codemirror_mode": {
    "name": "ipython",
    "version": 3
   },
   "file_extension": ".py",
   "mimetype": "text/x-python",
   "name": "python",
   "nbconvert_exporter": "python",
   "pygments_lexer": "ipython3",
   "version": "3.11.3"
  }
 },
 "nbformat": 4,
 "nbformat_minor": 1
}
