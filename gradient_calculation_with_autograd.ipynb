{
  "nbformat": 4,
  "nbformat_minor": 0,
  "metadata": {
    "colab": {
      "provenance": []
    },
    "kernelspec": {
      "name": "python3",
      "display_name": "Python 3"
    },
    "language_info": {
      "name": "python"
    }
  },
  "cells": [
    {
      "cell_type": "code",
      "execution_count": 2,
      "metadata": {
        "colab": {
          "base_uri": "https://localhost:8080/"
        },
        "id": "bRdaLpRceOn5",
        "outputId": "49183cae-ef1c-4dd6-cb88-bb4037e73bd7"
      },
      "outputs": [
        {
          "output_type": "stream",
          "name": "stdout",
          "text": [
            "tensor([ 1.7553, -0.7191,  1.6576], requires_grad=True)\n"
          ]
        }
      ],
      "source": [
        "import torch\n",
        "\n",
        "x = torch.randn(3, requires_grad= True)\n",
        "print(x)"
      ]
    },
    {
      "cell_type": "code",
      "source": [
        "y = x+2\n",
        "print(y)"
      ],
      "metadata": {
        "colab": {
          "base_uri": "https://localhost:8080/"
        },
        "id": "f0x3r1Skeh-V",
        "outputId": "90afbeb1-1b13-4471-90c0-7e954462ea09"
      },
      "execution_count": 3,
      "outputs": [
        {
          "output_type": "stream",
          "name": "stdout",
          "text": [
            "tensor([3.7553, 1.2809, 3.6576], grad_fn=<AddBackward0>)\n"
          ]
        }
      ]
    },
    {
      "cell_type": "code",
      "source": [
        "z = y*y*2\n",
        "z = z.mean()\n",
        "print(z)"
      ],
      "metadata": {
        "colab": {
          "base_uri": "https://localhost:8080/"
        },
        "id": "nRDg4xLSfPJr",
        "outputId": "4a604581-f5e1-488a-95c7-3e4daa16f2b1"
      },
      "execution_count": 5,
      "outputs": [
        {
          "output_type": "stream",
          "name": "stdout",
          "text": [
            "tensor(19.4143, grad_fn=<MeanBackward0>)\n"
          ]
        }
      ]
    },
    {
      "cell_type": "code",
      "source": [
        "z.backward() #dz/dx\n",
        "print(x.grad)"
      ],
      "metadata": {
        "colab": {
          "base_uri": "https://localhost:8080/"
        },
        "id": "llVemcT_fg4M",
        "outputId": "e5dffe3c-3e64-477a-91de-627f092ed671"
      },
      "execution_count": 6,
      "outputs": [
        {
          "output_type": "stream",
          "name": "stdout",
          "text": [
            "tensor([5.0071, 1.7079, 4.8768])\n"
          ]
        }
      ]
    },
    {
      "cell_type": "code",
      "source": [
        "#Autograd function applying three methods\n",
        "#that how can we prevent the tracking the gradient\n",
        "# 1. x.requires_grad(False)\n",
        "# 2. x.detach()\n",
        "# 3. with torch.no_grad()\n"
      ],
      "metadata": {
        "id": "vckZtJg8f4aX"
      },
      "execution_count": 7,
      "outputs": []
    },
    {
      "cell_type": "code",
      "source": [
        "#x.requires_grad(Flase) it means it will modify the variable inplace\n",
        "#x.requires_grad_(False)\n",
        "#print(x)"
      ],
      "metadata": {
        "colab": {
          "base_uri": "https://localhost:8080/"
        },
        "id": "EErWyxr8iU0C",
        "outputId": "c6533f42-fed0-4cec-e8a8-494e99b407b7"
      },
      "execution_count": 8,
      "outputs": [
        {
          "output_type": "stream",
          "name": "stdout",
          "text": [
            "tensor([ 1.7553, -0.7191,  1.6576])\n"
          ]
        }
      ]
    },
    {
      "cell_type": "code",
      "source": [
        "#x.detach()\n",
        "#y = x.detach()\n",
        "#print(y)"
      ],
      "metadata": {
        "colab": {
          "base_uri": "https://localhost:8080/"
        },
        "id": "_D4WkkSHi4zr",
        "outputId": "047c54a4-b07c-4447-8d3b-00e53d359df5"
      },
      "execution_count": 9,
      "outputs": [
        {
          "output_type": "stream",
          "name": "stdout",
          "text": [
            "tensor([ 1.7553, -0.7191,  1.6576])\n"
          ]
        }
      ]
    },
    {
      "cell_type": "code",
      "source": [
        "#with torch.no_grad()\n",
        "#with torch.no_grad():\n",
        "y = y+2\n",
        "print(y)"
      ],
      "metadata": {
        "colab": {
          "base_uri": "https://localhost:8080/"
        },
        "id": "MAatZ7p2jLTM",
        "outputId": "ef903b2b-3106-47a6-d7ea-55c5c1f24a3a"
      },
      "execution_count": 11,
      "outputs": [
        {
          "output_type": "stream",
          "name": "stdout",
          "text": [
            "tensor([5.7553, 3.2809, 5.6576])\n"
          ]
        }
      ]
    },
    {
      "cell_type": "code",
      "source": [
        "#Must Know during training Model\n",
        "weights = torch.ones(4, requires_grad= True)\n",
        "for epoch in range(3):\n",
        "  model_output = (weights*3).sum()\n",
        "  model_output.backward()\n",
        "\n",
        "  print(weights.grad)\n",
        "  weights.grad.zero_()\n",
        ""
      ],
      "metadata": {
        "colab": {
          "base_uri": "https://localhost:8080/"
        },
        "id": "OS-jQ9oMjc3b",
        "outputId": "cf61c52c-16a6-4e1a-8788-06a885fe1e04"
      },
      "execution_count": 17,
      "outputs": [
        {
          "output_type": "stream",
          "name": "stdout",
          "text": [
            "tensor([3., 3., 3., 3.])\n",
            "tensor([3., 3., 3., 3.])\n",
            "tensor([3., 3., 3., 3.])\n"
          ]
        }
      ]
    }
  ]
}