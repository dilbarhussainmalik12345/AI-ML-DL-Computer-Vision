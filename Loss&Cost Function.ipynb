{
 "cells": [
  {
   "cell_type": "code",
   "execution_count": 1,
   "id": "a3e54dc1",
   "metadata": {},
   "outputs": [],
   "source": [
    "import numpy as np"
   ]
  },
  {
   "cell_type": "code",
   "execution_count": 2,
   "id": "136fcdfc",
   "metadata": {},
   "outputs": [],
   "source": [
    "y_predicted = np.array([1,1,0,0,1])\n",
    "y_true = np.array([0.30, 0.7, 1,0,0.5])"
   ]
  },
  {
   "cell_type": "code",
   "execution_count": 7,
   "id": "cbce1152",
   "metadata": {},
   "outputs": [],
   "source": [
    "def mae(y_true, y_predicted):\n",
    "    total_error = 0\n",
    "    for yt, yp in zip(y_true, y_predicted):\n",
    "        total_error += (yt - yp)\n",
    "    print(\"Total Error\", y_true)\n",
    "    mae = total_error / len(y_true)\n",
    "    print(\"MAE: \", mae)\n",
    "    return mae"
   ]
  },
  {
   "cell_type": "code",
   "execution_count": 8,
   "id": "a1d9d4c6",
   "metadata": {},
   "outputs": [
    {
     "name": "stdout",
     "output_type": "stream",
     "text": [
      "Total Error [0.3 0.7 1.  0.  0.5]\n",
      "MAE:  -0.1\n"
     ]
    },
    {
     "data": {
      "text/plain": [
       "-0.1"
      ]
     },
     "execution_count": 8,
     "metadata": {},
     "output_type": "execute_result"
    }
   ],
   "source": [
    "mae(y_true, y_predicted)"
   ]
  },
  {
   "cell_type": "code",
   "execution_count": 10,
   "id": "22824e13",
   "metadata": {},
   "outputs": [
    {
     "data": {
      "text/plain": [
       "array([0.7, 0.3, 1. , 0. , 0.5])"
      ]
     },
     "execution_count": 10,
     "metadata": {},
     "output_type": "execute_result"
    }
   ],
   "source": [
    "np.abs(y_predicted - y_true)"
   ]
  },
  {
   "cell_type": "code",
   "execution_count": 12,
   "id": "df11242f",
   "metadata": {},
   "outputs": [
    {
     "data": {
      "text/plain": [
       "0.1"
      ]
     },
     "execution_count": 12,
     "metadata": {},
     "output_type": "execute_result"
    }
   ],
   "source": [
    "np.mean(y_predicted - y_true)"
   ]
  },
  {
   "cell_type": "code",
   "execution_count": 13,
   "id": "fab33a27",
   "metadata": {},
   "outputs": [
    {
     "name": "stderr",
     "output_type": "stream",
     "text": [
      "C:\\Users\\Asad Computrs\\AppData\\Local\\Temp\\ipykernel_6372\\1956594992.py:1: RuntimeWarning: divide by zero encountered in log\n",
      "  np.log([0.000])\n"
     ]
    },
    {
     "data": {
      "text/plain": [
       "array([-inf])"
      ]
     },
     "execution_count": 13,
     "metadata": {},
     "output_type": "execute_result"
    }
   ],
   "source": [
    "np.log([0.000])"
   ]
  },
  {
   "cell_type": "code",
   "execution_count": 14,
   "id": "ff3c2171",
   "metadata": {},
   "outputs": [],
   "source": [
    "eplison = 1e-15\n"
   ]
  },
  {
   "cell_type": "code",
   "execution_count": 18,
   "id": "2d89e290",
   "metadata": {},
   "outputs": [],
   "source": [
    "y_predicted_new = [max(i, eplison) for i in y_predicted]"
   ]
  },
  {
   "cell_type": "code",
   "execution_count": 19,
   "id": "3114541d",
   "metadata": {},
   "outputs": [
    {
     "data": {
      "text/plain": [
       "[1, 1, 1e-15, 1e-15, 1]"
      ]
     },
     "execution_count": 19,
     "metadata": {},
     "output_type": "execute_result"
    }
   ],
   "source": [
    "y_predicted_new"
   ]
  },
  {
   "cell_type": "code",
   "execution_count": 22,
   "id": "17e2fcdb",
   "metadata": {},
   "outputs": [],
   "source": [
    "y_predicted_new = [min(i, 1-eplison) for i in y_predicted_new]"
   ]
  },
  {
   "cell_type": "code",
   "execution_count": 23,
   "id": "cedd5f56",
   "metadata": {},
   "outputs": [
    {
     "data": {
      "text/plain": [
       "[0.999999999999999, 0.999999999999999, 0, 0, 0.999999999999999]"
      ]
     },
     "execution_count": 23,
     "metadata": {},
     "output_type": "execute_result"
    }
   ],
   "source": [
    "y_predicted_new"
   ]
  },
  {
   "cell_type": "code",
   "execution_count": 24,
   "id": "96a4207d",
   "metadata": {},
   "outputs": [],
   "source": [
    "y_predicted_new = np.array(y_predicted_new)"
   ]
  },
  {
   "cell_type": "code",
   "execution_count": 26,
   "id": "a30ed13f",
   "metadata": {},
   "outputs": [
    {
     "name": "stderr",
     "output_type": "stream",
     "text": [
      "C:\\Users\\Asad Computrs\\AppData\\Local\\Temp\\ipykernel_6372\\2469092518.py:1: RuntimeWarning: divide by zero encountered in log\n",
      "  np.log(y_predicted_new)\n"
     ]
    },
    {
     "data": {
      "text/plain": [
       "array([-9.99200722e-16, -9.99200722e-16,            -inf,            -inf,\n",
       "       -9.99200722e-16])"
      ]
     },
     "execution_count": 26,
     "metadata": {},
     "output_type": "execute_result"
    }
   ],
   "source": [
    "np.log(y_predicted_new)"
   ]
  },
  {
   "cell_type": "code",
   "execution_count": 27,
   "id": "1b31e454",
   "metadata": {},
   "outputs": [
    {
     "name": "stderr",
     "output_type": "stream",
     "text": [
      "C:\\Users\\Asad Computrs\\AppData\\Local\\Temp\\ipykernel_6372\\3986142583.py:1: RuntimeWarning: divide by zero encountered in log\n",
      "  -np.mean(y_true*np.log(y_predicted_new) + (1-y_true)*(np.log(1-y_predicted_new)))\n",
      "C:\\Users\\Asad Computrs\\AppData\\Local\\Temp\\ipykernel_6372\\3986142583.py:1: RuntimeWarning: invalid value encountered in multiply\n",
      "  -np.mean(y_true*np.log(y_predicted_new) + (1-y_true)*(np.log(1-y_predicted_new)))\n"
     ]
    },
    {
     "data": {
      "text/plain": [
       "nan"
      ]
     },
     "execution_count": 27,
     "metadata": {},
     "output_type": "execute_result"
    }
   ],
   "source": [
    "-np.mean(y_true*np.log(y_predicted_new) + (1-y_true)*(np.log(1-y_predicted_new)))"
   ]
  },
  {
   "cell_type": "code",
   "execution_count": null,
   "id": "e7aebff2",
   "metadata": {},
   "outputs": [],
   "source": []
  }
 ],
 "metadata": {
  "kernelspec": {
   "display_name": "Python 3 (ipykernel)",
   "language": "python",
   "name": "python3"
  },
  "language_info": {
   "codemirror_mode": {
    "name": "ipython",
    "version": 3
   },
   "file_extension": ".py",
   "mimetype": "text/x-python",
   "name": "python",
   "nbconvert_exporter": "python",
   "pygments_lexer": "ipython3",
   "version": "3.11.3"
  }
 },
 "nbformat": 4,
 "nbformat_minor": 5
}
