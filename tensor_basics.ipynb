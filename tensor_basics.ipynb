{
  "nbformat": 4,
  "nbformat_minor": 0,
  "metadata": {
    "colab": {
      "provenance": []
    },
    "kernelspec": {
      "name": "python3",
      "display_name": "Python 3"
    },
    "language_info": {
      "name": "python"
    }
  },
  "cells": [
    {
      "cell_type": "code",
      "execution_count": 1,
      "metadata": {
        "colab": {
          "base_uri": "https://localhost:8080/"
        },
        "id": "Bt1oBuZWFAeK",
        "outputId": "4ba22eed-755b-49ab-fc29-ae2f3e02f270"
      },
      "outputs": [
        {
          "output_type": "stream",
          "name": "stdout",
          "text": [
            "Hello \n"
          ]
        }
      ],
      "source": [
        "print(\"Hello \")"
      ]
    },
    {
      "cell_type": "code",
      "source": [
        "import torch"
      ],
      "metadata": {
        "id": "3ytyS0khFQ1i"
      },
      "execution_count": 2,
      "outputs": []
    },
    {
      "cell_type": "code",
      "source": [
        "#x = torch.empty(3) // one day arry\n",
        "x = torch.empty(2, 4)\n",
        "print(x)\n",
        "print(x.dtype)\n",
        "print(x.size())"
      ],
      "metadata": {
        "colab": {
          "base_uri": "https://localhost:8080/"
        },
        "id": "7gH_8a-UQ018",
        "outputId": "85f12bbc-c555-4a63-e065-5ceb359cf880"
      },
      "execution_count": 7,
      "outputs": [
        {
          "output_type": "stream",
          "name": "stdout",
          "text": [
            "tensor([[-1.2388e+11,  4.5841e-41,  4.5129e-37,  0.0000e+00],\n",
            "        [ 0.0000e+00,  0.0000e+00,  0.0000e+00,  0.0000e+00]])\n",
            "torch.float32\n",
            "torch.Size([2, 4])\n"
          ]
        }
      ]
    },
    {
      "cell_type": "code",
      "source": [
        "a = torch.rand(2,2)\n",
        "b = torch.rand(2,2)\n",
        "print(a)\n",
        "print(b)\n",
        "z = a+b\n",
        "print(z)"
      ],
      "metadata": {
        "colab": {
          "base_uri": "https://localhost:8080/"
        },
        "id": "urUijfK5Q52X",
        "outputId": "51cc79ef-6058-4e54-d10a-836755f3d1a4"
      },
      "execution_count": 9,
      "outputs": [
        {
          "output_type": "stream",
          "name": "stdout",
          "text": [
            "tensor([[0.2283, 0.0811],\n",
            "        [0.0999, 0.8943]])\n",
            "tensor([[0.2466, 0.8859],\n",
            "        [0.5218, 0.7617]])\n",
            "tensor([[0.4749, 0.9671],\n",
            "        [0.6218, 1.6560]])\n"
          ]
        }
      ]
    },
    {
      "cell_type": "code",
      "source": [
        "s = torch.rand(5,2)\n",
        "print(s)"
      ],
      "metadata": {
        "colab": {
          "base_uri": "https://localhost:8080/"
        },
        "id": "Rr9NPYwkSPc0",
        "outputId": "1a0f587a-b5c9-4d10-a94d-77faeb1a0e95"
      },
      "execution_count": 10,
      "outputs": [
        {
          "output_type": "stream",
          "name": "stdout",
          "text": [
            "tensor([[0.5945, 0.0913],\n",
            "        [0.4812, 0.5395],\n",
            "        [0.8599, 0.3109],\n",
            "        [0.5227, 0.0936],\n",
            "        [0.3447, 0.7347]])\n"
          ]
        }
      ]
    },
    {
      "cell_type": "code",
      "source": [
        "#slicing technique\n",
        "print(x[1, :])"
      ],
      "metadata": {
        "colab": {
          "base_uri": "https://localhost:8080/"
        },
        "id": "U0tCWKW-T6FP",
        "outputId": "8916c958-b308-42af-b16b-5c06569a6734"
      },
      "execution_count": 12,
      "outputs": [
        {
          "output_type": "stream",
          "name": "stdout",
          "text": [
            "tensor([0., 0., 0., 0.])\n"
          ]
        }
      ]
    },
    {
      "cell_type": "code",
      "source": [
        "#Numpy to Torch tensor\n",
        "import numpy as np"
      ],
      "metadata": {
        "id": "I5_Ute04UBZQ"
      },
      "execution_count": 13,
      "outputs": []
    },
    {
      "cell_type": "code",
      "source": [
        "a = torch.ones(5)"
      ],
      "metadata": {
        "id": "qZgLWrmcUt3H"
      },
      "execution_count": 14,
      "outputs": []
    },
    {
      "cell_type": "code",
      "source": [
        "print(a)"
      ],
      "metadata": {
        "colab": {
          "base_uri": "https://localhost:8080/"
        },
        "id": "8bypvoXEU166",
        "outputId": "63958832-adec-45be-f454-5d692ffc0537"
      },
      "execution_count": 15,
      "outputs": [
        {
          "output_type": "stream",
          "name": "stdout",
          "text": [
            "tensor([1., 1., 1., 1., 1.])\n"
          ]
        }
      ]
    },
    {
      "cell_type": "code",
      "source": [
        "b = a.numpy()\n",
        "print(type(b))"
      ],
      "metadata": {
        "colab": {
          "base_uri": "https://localhost:8080/"
        },
        "id": "wH1lSpSrU4xx",
        "outputId": "128c5618-6e05-4b9e-d388-8407cc5b174b"
      },
      "execution_count": 16,
      "outputs": [
        {
          "output_type": "stream",
          "name": "stdout",
          "text": [
            "<class 'numpy.ndarray'>\n"
          ]
        }
      ]
    },
    {
      "cell_type": "code",
      "source": [
        "#Torch tensor to numpy\n",
        "a = np.ones(5)\n",
        "print(a)"
      ],
      "metadata": {
        "colab": {
          "base_uri": "https://localhost:8080/"
        },
        "id": "2yI_AwtUVF8A",
        "outputId": "21dacef8-ed6f-46a8-b1a6-293658f50135"
      },
      "execution_count": 17,
      "outputs": [
        {
          "output_type": "stream",
          "name": "stdout",
          "text": [
            "[1. 1. 1. 1. 1.]\n"
          ]
        }
      ]
    },
    {
      "cell_type": "code",
      "source": [
        "b = torch.from_numpy(a)"
      ],
      "metadata": {
        "id": "UMZxOFAVVoCX"
      },
      "execution_count": 18,
      "outputs": []
    },
    {
      "cell_type": "code",
      "source": [
        "print(b)"
      ],
      "metadata": {
        "colab": {
          "base_uri": "https://localhost:8080/"
        },
        "id": "H4_knq1fVu4b",
        "outputId": "ff8580dc-2ef1-4e05-9ca5-fed05eaf20c4"
      },
      "execution_count": 19,
      "outputs": [
        {
          "output_type": "stream",
          "name": "stdout",
          "text": [
            "tensor([1., 1., 1., 1., 1.], dtype=torch.float64)\n"
          ]
        }
      ]
    },
    {
      "cell_type": "code",
      "source": [],
      "metadata": {
        "id": "a5d0NLGCVxKX"
      },
      "execution_count": null,
      "outputs": []
    }
  ]
}